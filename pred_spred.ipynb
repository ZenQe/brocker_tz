{
 "cells": [
  {
   "cell_type": "markdown",
   "metadata": {},
   "source": [
    "## Описание данных\n",
    "\n",
    "VASK0, VASK1, VASK2, VASK3, VASK4 – объёмы на 5 лучших асках текущего шага времени<br>\n",
    "VBID0, VBID1, VBID2, VBID3, VBID4 – объёмы на 5 лучших бидах текущего шага времени<br>\n",
    "VASK0_PREV, VASK1_PREV, VASK2_PREV, VASK3_PREV, VASK4_PREV – объёмы на 5 лучших асках предыдущего шага времени<br>\n",
    "VBID0_PREV, VBID1_PREV, VBID2_PREV, VBID3_PREV, VBID4_PREV – объёмы на 5 лучших бидах предыдущего шага времени<br>\n",
    "Y – целевая переменная, расширится ли спред на следующем шаге времени (0 – останется минимальным, 1 – расширится)\n",
    "Необходимо предсказать вероятность для каждой строчки из обучающей выборки test.csv.<br>\n",
    "Метрика задачи – AUC ROC.\n"
   ]
  },
  {
   "cell_type": "code",
   "execution_count": 1,
   "metadata": {},
   "outputs": [],
   "source": [
    "import pandas as pd\n",
    "from sklearn.model_selection import train_test_split\n",
    "import matplotlib.pyplot as plt\n",
    "from sklearn.utils import shuffle\n",
    "import seaborn as sns\n",
    "\n",
    "from sklearn.tree import DecisionTreeClassifier\n",
    "from sklearn.linear_model import LogisticRegression\n",
    "from catboost import CatBoostClassifier\n",
    "import xgboost as xgb\n",
    "\n",
    "from sklearn.metrics import roc_auc_score, roc_curve\n",
    "from sklearn.model_selection import cross_validate\n",
    "from sklearn.metrics import accuracy_score, precision_score, recall_score, f1_score"
   ]
  },
  {
   "cell_type": "code",
   "execution_count": 2,
   "metadata": {},
   "outputs": [],
   "source": [
    "spred_train = pd.read_csv('tz/train.csv')\n",
    "spred_test = pd.read_csv('tz/test.csv')"
   ]
  },
  {
   "cell_type": "markdown",
   "metadata": {},
   "source": [
    "## Анализ и предобработка данных"
   ]
  },
  {
   "cell_type": "markdown",
   "metadata": {},
   "source": [
    "Посмотрим на сами данные"
   ]
  },
  {
   "cell_type": "code",
   "execution_count": 3,
   "metadata": {},
   "outputs": [
    {
     "data": {
      "text/html": [
       "<div>\n",
       "<style scoped>\n",
       "    .dataframe tbody tr th:only-of-type {\n",
       "        vertical-align: middle;\n",
       "    }\n",
       "\n",
       "    .dataframe tbody tr th {\n",
       "        vertical-align: top;\n",
       "    }\n",
       "\n",
       "    .dataframe thead th {\n",
       "        text-align: right;\n",
       "    }\n",
       "</style>\n",
       "<table border=\"1\" class=\"dataframe\">\n",
       "  <thead>\n",
       "    <tr style=\"text-align: right;\">\n",
       "      <th></th>\n",
       "      <th>VASK0</th>\n",
       "      <th>VASK1</th>\n",
       "      <th>VASK2</th>\n",
       "      <th>VASK3</th>\n",
       "      <th>VASK4</th>\n",
       "      <th>VBID0</th>\n",
       "      <th>VBID1</th>\n",
       "      <th>VBID2</th>\n",
       "      <th>VBID3</th>\n",
       "      <th>VBID4</th>\n",
       "      <th>...</th>\n",
       "      <th>VASK1_PREV</th>\n",
       "      <th>VASK2_PREV</th>\n",
       "      <th>VASK3_PREV</th>\n",
       "      <th>VASK4_PREV</th>\n",
       "      <th>VBID0_PREV</th>\n",
       "      <th>VBID1_PREV</th>\n",
       "      <th>VBID2_PREV</th>\n",
       "      <th>VBID3_PREV</th>\n",
       "      <th>VBID4_PREV</th>\n",
       "      <th>Y</th>\n",
       "    </tr>\n",
       "  </thead>\n",
       "  <tbody>\n",
       "    <tr>\n",
       "      <td>0</td>\n",
       "      <td>108</td>\n",
       "      <td>276</td>\n",
       "      <td>224</td>\n",
       "      <td>196</td>\n",
       "      <td>195</td>\n",
       "      <td>132</td>\n",
       "      <td>181</td>\n",
       "      <td>253</td>\n",
       "      <td>207</td>\n",
       "      <td>185</td>\n",
       "      <td>...</td>\n",
       "      <td>276</td>\n",
       "      <td>224</td>\n",
       "      <td>196</td>\n",
       "      <td>195</td>\n",
       "      <td>136</td>\n",
       "      <td>181</td>\n",
       "      <td>253</td>\n",
       "      <td>207</td>\n",
       "      <td>185</td>\n",
       "      <td>0</td>\n",
       "    </tr>\n",
       "    <tr>\n",
       "      <td>1</td>\n",
       "      <td>47</td>\n",
       "      <td>132</td>\n",
       "      <td>197</td>\n",
       "      <td>236</td>\n",
       "      <td>188</td>\n",
       "      <td>81</td>\n",
       "      <td>146</td>\n",
       "      <td>193</td>\n",
       "      <td>169</td>\n",
       "      <td>192</td>\n",
       "      <td>...</td>\n",
       "      <td>132</td>\n",
       "      <td>197</td>\n",
       "      <td>236</td>\n",
       "      <td>188</td>\n",
       "      <td>81</td>\n",
       "      <td>146</td>\n",
       "      <td>193</td>\n",
       "      <td>169</td>\n",
       "      <td>192</td>\n",
       "      <td>0</td>\n",
       "    </tr>\n",
       "    <tr>\n",
       "      <td>2</td>\n",
       "      <td>93</td>\n",
       "      <td>172</td>\n",
       "      <td>193</td>\n",
       "      <td>226</td>\n",
       "      <td>232</td>\n",
       "      <td>33</td>\n",
       "      <td>128</td>\n",
       "      <td>168</td>\n",
       "      <td>145</td>\n",
       "      <td>140</td>\n",
       "      <td>...</td>\n",
       "      <td>172</td>\n",
       "      <td>193</td>\n",
       "      <td>226</td>\n",
       "      <td>232</td>\n",
       "      <td>33</td>\n",
       "      <td>128</td>\n",
       "      <td>168</td>\n",
       "      <td>145</td>\n",
       "      <td>140</td>\n",
       "      <td>0</td>\n",
       "    </tr>\n",
       "    <tr>\n",
       "      <td>3</td>\n",
       "      <td>62</td>\n",
       "      <td>104</td>\n",
       "      <td>169</td>\n",
       "      <td>188</td>\n",
       "      <td>140</td>\n",
       "      <td>75</td>\n",
       "      <td>165</td>\n",
       "      <td>151</td>\n",
       "      <td>206</td>\n",
       "      <td>105</td>\n",
       "      <td>...</td>\n",
       "      <td>104</td>\n",
       "      <td>169</td>\n",
       "      <td>188</td>\n",
       "      <td>140</td>\n",
       "      <td>81</td>\n",
       "      <td>165</td>\n",
       "      <td>151</td>\n",
       "      <td>206</td>\n",
       "      <td>105</td>\n",
       "      <td>0</td>\n",
       "    </tr>\n",
       "    <tr>\n",
       "      <td>4</td>\n",
       "      <td>40</td>\n",
       "      <td>43</td>\n",
       "      <td>87</td>\n",
       "      <td>110</td>\n",
       "      <td>99</td>\n",
       "      <td>11</td>\n",
       "      <td>66</td>\n",
       "      <td>77</td>\n",
       "      <td>155</td>\n",
       "      <td>364</td>\n",
       "      <td>...</td>\n",
       "      <td>43</td>\n",
       "      <td>87</td>\n",
       "      <td>110</td>\n",
       "      <td>99</td>\n",
       "      <td>11</td>\n",
       "      <td>66</td>\n",
       "      <td>77</td>\n",
       "      <td>153</td>\n",
       "      <td>364</td>\n",
       "      <td>0</td>\n",
       "    </tr>\n",
       "  </tbody>\n",
       "</table>\n",
       "<p>5 rows × 21 columns</p>\n",
       "</div>"
      ],
      "text/plain": [
       "   VASK0  VASK1  VASK2  VASK3  VASK4  VBID0  VBID1  VBID2  VBID3  VBID4  ...  \\\n",
       "0    108    276    224    196    195    132    181    253    207    185  ...   \n",
       "1     47    132    197    236    188     81    146    193    169    192  ...   \n",
       "2     93    172    193    226    232     33    128    168    145    140  ...   \n",
       "3     62    104    169    188    140     75    165    151    206    105  ...   \n",
       "4     40     43     87    110     99     11     66     77    155    364  ...   \n",
       "\n",
       "   VASK1_PREV  VASK2_PREV  VASK3_PREV  VASK4_PREV  VBID0_PREV  VBID1_PREV  \\\n",
       "0         276         224         196         195         136         181   \n",
       "1         132         197         236         188          81         146   \n",
       "2         172         193         226         232          33         128   \n",
       "3         104         169         188         140          81         165   \n",
       "4          43          87         110          99          11          66   \n",
       "\n",
       "   VBID2_PREV  VBID3_PREV  VBID4_PREV  Y  \n",
       "0         253         207         185  0  \n",
       "1         193         169         192  0  \n",
       "2         168         145         140  0  \n",
       "3         151         206         105  0  \n",
       "4          77         153         364  0  \n",
       "\n",
       "[5 rows x 21 columns]"
      ]
     },
     "execution_count": 3,
     "metadata": {},
     "output_type": "execute_result"
    }
   ],
   "source": [
    "spred_train.head()"
   ]
  },
  {
   "cell_type": "code",
   "execution_count": 4,
   "metadata": {
    "scrolled": true
   },
   "outputs": [
    {
     "data": {
      "text/html": [
       "<div>\n",
       "<style scoped>\n",
       "    .dataframe tbody tr th:only-of-type {\n",
       "        vertical-align: middle;\n",
       "    }\n",
       "\n",
       "    .dataframe tbody tr th {\n",
       "        vertical-align: top;\n",
       "    }\n",
       "\n",
       "    .dataframe thead th {\n",
       "        text-align: right;\n",
       "    }\n",
       "</style>\n",
       "<table border=\"1\" class=\"dataframe\">\n",
       "  <thead>\n",
       "    <tr style=\"text-align: right;\">\n",
       "      <th></th>\n",
       "      <th>VASK0</th>\n",
       "      <th>VASK1</th>\n",
       "      <th>VASK2</th>\n",
       "      <th>VASK3</th>\n",
       "      <th>VASK4</th>\n",
       "      <th>VBID0</th>\n",
       "      <th>VBID1</th>\n",
       "      <th>VBID2</th>\n",
       "      <th>VBID3</th>\n",
       "      <th>VBID4</th>\n",
       "      <th>VASK0_PREV</th>\n",
       "      <th>VASK1_PREV</th>\n",
       "      <th>VASK2_PREV</th>\n",
       "      <th>VASK3_PREV</th>\n",
       "      <th>VASK4_PREV</th>\n",
       "      <th>VBID0_PREV</th>\n",
       "      <th>VBID1_PREV</th>\n",
       "      <th>VBID2_PREV</th>\n",
       "      <th>VBID3_PREV</th>\n",
       "      <th>VBID4_PREV</th>\n",
       "    </tr>\n",
       "  </thead>\n",
       "  <tbody>\n",
       "    <tr>\n",
       "      <td>0</td>\n",
       "      <td>187</td>\n",
       "      <td>341</td>\n",
       "      <td>385</td>\n",
       "      <td>375</td>\n",
       "      <td>323</td>\n",
       "      <td>134</td>\n",
       "      <td>158</td>\n",
       "      <td>213</td>\n",
       "      <td>222</td>\n",
       "      <td>180</td>\n",
       "      <td>187</td>\n",
       "      <td>341</td>\n",
       "      <td>385</td>\n",
       "      <td>375</td>\n",
       "      <td>323</td>\n",
       "      <td>134</td>\n",
       "      <td>158</td>\n",
       "      <td>212</td>\n",
       "      <td>222</td>\n",
       "      <td>180</td>\n",
       "    </tr>\n",
       "    <tr>\n",
       "      <td>1</td>\n",
       "      <td>37</td>\n",
       "      <td>165</td>\n",
       "      <td>144</td>\n",
       "      <td>160</td>\n",
       "      <td>146</td>\n",
       "      <td>89</td>\n",
       "      <td>101</td>\n",
       "      <td>184</td>\n",
       "      <td>162</td>\n",
       "      <td>123</td>\n",
       "      <td>38</td>\n",
       "      <td>165</td>\n",
       "      <td>144</td>\n",
       "      <td>160</td>\n",
       "      <td>146</td>\n",
       "      <td>89</td>\n",
       "      <td>101</td>\n",
       "      <td>185</td>\n",
       "      <td>162</td>\n",
       "      <td>123</td>\n",
       "    </tr>\n",
       "    <tr>\n",
       "      <td>2</td>\n",
       "      <td>195</td>\n",
       "      <td>192</td>\n",
       "      <td>211</td>\n",
       "      <td>178</td>\n",
       "      <td>188</td>\n",
       "      <td>18</td>\n",
       "      <td>114</td>\n",
       "      <td>162</td>\n",
       "      <td>163</td>\n",
       "      <td>167</td>\n",
       "      <td>195</td>\n",
       "      <td>192</td>\n",
       "      <td>211</td>\n",
       "      <td>178</td>\n",
       "      <td>188</td>\n",
       "      <td>18</td>\n",
       "      <td>114</td>\n",
       "      <td>162</td>\n",
       "      <td>163</td>\n",
       "      <td>167</td>\n",
       "    </tr>\n",
       "    <tr>\n",
       "      <td>3</td>\n",
       "      <td>5</td>\n",
       "      <td>180</td>\n",
       "      <td>143</td>\n",
       "      <td>159</td>\n",
       "      <td>194</td>\n",
       "      <td>109</td>\n",
       "      <td>127</td>\n",
       "      <td>224</td>\n",
       "      <td>133</td>\n",
       "      <td>132</td>\n",
       "      <td>5</td>\n",
       "      <td>180</td>\n",
       "      <td>143</td>\n",
       "      <td>159</td>\n",
       "      <td>194</td>\n",
       "      <td>110</td>\n",
       "      <td>127</td>\n",
       "      <td>224</td>\n",
       "      <td>133</td>\n",
       "      <td>132</td>\n",
       "    </tr>\n",
       "    <tr>\n",
       "      <td>4</td>\n",
       "      <td>117</td>\n",
       "      <td>156</td>\n",
       "      <td>154</td>\n",
       "      <td>169</td>\n",
       "      <td>139</td>\n",
       "      <td>48</td>\n",
       "      <td>129</td>\n",
       "      <td>148</td>\n",
       "      <td>159</td>\n",
       "      <td>177</td>\n",
       "      <td>117</td>\n",
       "      <td>156</td>\n",
       "      <td>154</td>\n",
       "      <td>169</td>\n",
       "      <td>139</td>\n",
       "      <td>48</td>\n",
       "      <td>128</td>\n",
       "      <td>148</td>\n",
       "      <td>159</td>\n",
       "      <td>177</td>\n",
       "    </tr>\n",
       "  </tbody>\n",
       "</table>\n",
       "</div>"
      ],
      "text/plain": [
       "   VASK0  VASK1  VASK2  VASK3  VASK4  VBID0  VBID1  VBID2  VBID3  VBID4  \\\n",
       "0    187    341    385    375    323    134    158    213    222    180   \n",
       "1     37    165    144    160    146     89    101    184    162    123   \n",
       "2    195    192    211    178    188     18    114    162    163    167   \n",
       "3      5    180    143    159    194    109    127    224    133    132   \n",
       "4    117    156    154    169    139     48    129    148    159    177   \n",
       "\n",
       "   VASK0_PREV  VASK1_PREV  VASK2_PREV  VASK3_PREV  VASK4_PREV  VBID0_PREV  \\\n",
       "0         187         341         385         375         323         134   \n",
       "1          38         165         144         160         146          89   \n",
       "2         195         192         211         178         188          18   \n",
       "3           5         180         143         159         194         110   \n",
       "4         117         156         154         169         139          48   \n",
       "\n",
       "   VBID1_PREV  VBID2_PREV  VBID3_PREV  VBID4_PREV  \n",
       "0         158         212         222         180  \n",
       "1         101         185         162         123  \n",
       "2         114         162         163         167  \n",
       "3         127         224         133         132  \n",
       "4         128         148         159         177  "
      ]
     },
     "execution_count": 4,
     "metadata": {},
     "output_type": "execute_result"
    }
   ],
   "source": [
    "spred_test.head()"
   ]
  },
  {
   "cell_type": "markdown",
   "metadata": {},
   "source": [
    "На первый взгляд train/test имеют общую структуру, проверим."
   ]
  },
  {
   "cell_type": "code",
   "execution_count": 5,
   "metadata": {},
   "outputs": [
    {
     "name": "stdout",
     "output_type": "stream",
     "text": [
      "<class 'pandas.core.frame.DataFrame'>\n",
      "RangeIndex: 186590 entries, 0 to 186589\n",
      "Data columns (total 21 columns):\n",
      "VASK0         186590 non-null int64\n",
      "VASK1         186590 non-null int64\n",
      "VASK2         186590 non-null int64\n",
      "VASK3         186590 non-null int64\n",
      "VASK4         186590 non-null int64\n",
      "VBID0         186590 non-null int64\n",
      "VBID1         186590 non-null int64\n",
      "VBID2         186590 non-null int64\n",
      "VBID3         186590 non-null int64\n",
      "VBID4         186590 non-null int64\n",
      "VASK0_PREV    186590 non-null int64\n",
      "VASK1_PREV    186590 non-null int64\n",
      "VASK2_PREV    186590 non-null int64\n",
      "VASK3_PREV    186590 non-null int64\n",
      "VASK4_PREV    186590 non-null int64\n",
      "VBID0_PREV    186590 non-null int64\n",
      "VBID1_PREV    186590 non-null int64\n",
      "VBID2_PREV    186590 non-null int64\n",
      "VBID3_PREV    186590 non-null int64\n",
      "VBID4_PREV    186590 non-null int64\n",
      "Y             186590 non-null int64\n",
      "dtypes: int64(21)\n",
      "memory usage: 29.9 MB\n"
     ]
    }
   ],
   "source": [
    "spred_train.info()"
   ]
  },
  {
   "cell_type": "code",
   "execution_count": 6,
   "metadata": {
    "scrolled": true
   },
   "outputs": [
    {
     "name": "stdout",
     "output_type": "stream",
     "text": [
      "<class 'pandas.core.frame.DataFrame'>\n",
      "RangeIndex: 93296 entries, 0 to 93295\n",
      "Data columns (total 20 columns):\n",
      "VASK0         93296 non-null int64\n",
      "VASK1         93296 non-null int64\n",
      "VASK2         93296 non-null int64\n",
      "VASK3         93296 non-null int64\n",
      "VASK4         93296 non-null int64\n",
      "VBID0         93296 non-null int64\n",
      "VBID1         93296 non-null int64\n",
      "VBID2         93296 non-null int64\n",
      "VBID3         93296 non-null int64\n",
      "VBID4         93296 non-null int64\n",
      "VASK0_PREV    93296 non-null int64\n",
      "VASK1_PREV    93296 non-null int64\n",
      "VASK2_PREV    93296 non-null int64\n",
      "VASK3_PREV    93296 non-null int64\n",
      "VASK4_PREV    93296 non-null int64\n",
      "VBID0_PREV    93296 non-null int64\n",
      "VBID1_PREV    93296 non-null int64\n",
      "VBID2_PREV    93296 non-null int64\n",
      "VBID3_PREV    93296 non-null int64\n",
      "VBID4_PREV    93296 non-null int64\n",
      "dtypes: int64(20)\n",
      "memory usage: 14.2 MB\n"
     ]
    }
   ],
   "source": [
    "spred_test.info()"
   ]
  },
  {
   "cell_type": "markdown",
   "metadata": {},
   "source": [
    "Пропусков в данных нет, тип данных у всех столбцов октуальный."
   ]
  },
  {
   "cell_type": "code",
   "execution_count": 7,
   "metadata": {},
   "outputs": [
    {
     "data": {
      "text/html": [
       "<div>\n",
       "<style scoped>\n",
       "    .dataframe tbody tr th:only-of-type {\n",
       "        vertical-align: middle;\n",
       "    }\n",
       "\n",
       "    .dataframe tbody tr th {\n",
       "        vertical-align: top;\n",
       "    }\n",
       "\n",
       "    .dataframe thead th {\n",
       "        text-align: right;\n",
       "    }\n",
       "</style>\n",
       "<table border=\"1\" class=\"dataframe\">\n",
       "  <thead>\n",
       "    <tr style=\"text-align: right;\">\n",
       "      <th></th>\n",
       "      <th>VASK0</th>\n",
       "      <th>VASK1</th>\n",
       "      <th>VASK2</th>\n",
       "      <th>VASK3</th>\n",
       "      <th>VASK4</th>\n",
       "      <th>VBID0</th>\n",
       "      <th>VBID1</th>\n",
       "      <th>VBID2</th>\n",
       "      <th>VBID3</th>\n",
       "      <th>VBID4</th>\n",
       "      <th>...</th>\n",
       "      <th>VASK1_PREV</th>\n",
       "      <th>VASK2_PREV</th>\n",
       "      <th>VASK3_PREV</th>\n",
       "      <th>VASK4_PREV</th>\n",
       "      <th>VBID0_PREV</th>\n",
       "      <th>VBID1_PREV</th>\n",
       "      <th>VBID2_PREV</th>\n",
       "      <th>VBID3_PREV</th>\n",
       "      <th>VBID4_PREV</th>\n",
       "      <th>Y</th>\n",
       "    </tr>\n",
       "  </thead>\n",
       "  <tbody>\n",
       "    <tr>\n",
       "      <td>count</td>\n",
       "      <td>186590.000000</td>\n",
       "      <td>186590.000000</td>\n",
       "      <td>186590.000000</td>\n",
       "      <td>186590.000000</td>\n",
       "      <td>186590.000000</td>\n",
       "      <td>186590.000000</td>\n",
       "      <td>186590.000000</td>\n",
       "      <td>186590.000000</td>\n",
       "      <td>186590.000000</td>\n",
       "      <td>186590.000000</td>\n",
       "      <td>...</td>\n",
       "      <td>186590.000000</td>\n",
       "      <td>186590.000000</td>\n",
       "      <td>186590.000000</td>\n",
       "      <td>186590.000000</td>\n",
       "      <td>186590.000000</td>\n",
       "      <td>186590.000000</td>\n",
       "      <td>186590.000000</td>\n",
       "      <td>186590.000000</td>\n",
       "      <td>186590.000000</td>\n",
       "      <td>186590.000000</td>\n",
       "    </tr>\n",
       "    <tr>\n",
       "      <td>mean</td>\n",
       "      <td>92.788981</td>\n",
       "      <td>178.840495</td>\n",
       "      <td>204.462640</td>\n",
       "      <td>205.277978</td>\n",
       "      <td>202.079436</td>\n",
       "      <td>92.270245</td>\n",
       "      <td>177.477716</td>\n",
       "      <td>203.058487</td>\n",
       "      <td>202.174195</td>\n",
       "      <td>197.799646</td>\n",
       "      <td>...</td>\n",
       "      <td>178.796431</td>\n",
       "      <td>204.430945</td>\n",
       "      <td>205.273975</td>\n",
       "      <td>202.076333</td>\n",
       "      <td>92.318286</td>\n",
       "      <td>177.438491</td>\n",
       "      <td>203.023479</td>\n",
       "      <td>202.169194</td>\n",
       "      <td>197.795123</td>\n",
       "      <td>0.010258</td>\n",
       "    </tr>\n",
       "    <tr>\n",
       "      <td>std</td>\n",
       "      <td>66.491713</td>\n",
       "      <td>62.138222</td>\n",
       "      <td>62.969816</td>\n",
       "      <td>65.644839</td>\n",
       "      <td>67.571850</td>\n",
       "      <td>65.281200</td>\n",
       "      <td>59.409587</td>\n",
       "      <td>58.546985</td>\n",
       "      <td>59.286325</td>\n",
       "      <td>61.265705</td>\n",
       "      <td>...</td>\n",
       "      <td>62.173445</td>\n",
       "      <td>62.981647</td>\n",
       "      <td>65.646947</td>\n",
       "      <td>67.573708</td>\n",
       "      <td>65.376130</td>\n",
       "      <td>59.444964</td>\n",
       "      <td>58.557993</td>\n",
       "      <td>59.289762</td>\n",
       "      <td>61.263966</td>\n",
       "      <td>0.100760</td>\n",
       "    </tr>\n",
       "    <tr>\n",
       "      <td>min</td>\n",
       "      <td>1.000000</td>\n",
       "      <td>1.000000</td>\n",
       "      <td>5.000000</td>\n",
       "      <td>1.000000</td>\n",
       "      <td>9.000000</td>\n",
       "      <td>1.000000</td>\n",
       "      <td>1.000000</td>\n",
       "      <td>1.000000</td>\n",
       "      <td>4.000000</td>\n",
       "      <td>3.000000</td>\n",
       "      <td>...</td>\n",
       "      <td>1.000000</td>\n",
       "      <td>5.000000</td>\n",
       "      <td>1.000000</td>\n",
       "      <td>9.000000</td>\n",
       "      <td>1.000000</td>\n",
       "      <td>1.000000</td>\n",
       "      <td>1.000000</td>\n",
       "      <td>4.000000</td>\n",
       "      <td>3.000000</td>\n",
       "      <td>0.000000</td>\n",
       "    </tr>\n",
       "    <tr>\n",
       "      <td>25%</td>\n",
       "      <td>41.000000</td>\n",
       "      <td>138.000000</td>\n",
       "      <td>162.000000</td>\n",
       "      <td>161.000000</td>\n",
       "      <td>156.000000</td>\n",
       "      <td>40.000000</td>\n",
       "      <td>137.000000</td>\n",
       "      <td>162.000000</td>\n",
       "      <td>161.000000</td>\n",
       "      <td>156.000000</td>\n",
       "      <td>...</td>\n",
       "      <td>138.000000</td>\n",
       "      <td>162.000000</td>\n",
       "      <td>161.000000</td>\n",
       "      <td>156.000000</td>\n",
       "      <td>40.000000</td>\n",
       "      <td>136.000000</td>\n",
       "      <td>162.000000</td>\n",
       "      <td>161.000000</td>\n",
       "      <td>156.000000</td>\n",
       "      <td>0.000000</td>\n",
       "    </tr>\n",
       "    <tr>\n",
       "      <td>50%</td>\n",
       "      <td>83.000000</td>\n",
       "      <td>170.000000</td>\n",
       "      <td>196.000000</td>\n",
       "      <td>194.000000</td>\n",
       "      <td>189.000000</td>\n",
       "      <td>83.000000</td>\n",
       "      <td>170.000000</td>\n",
       "      <td>197.000000</td>\n",
       "      <td>195.000000</td>\n",
       "      <td>188.000000</td>\n",
       "      <td>...</td>\n",
       "      <td>170.000000</td>\n",
       "      <td>196.000000</td>\n",
       "      <td>194.000000</td>\n",
       "      <td>189.000000</td>\n",
       "      <td>83.000000</td>\n",
       "      <td>170.000000</td>\n",
       "      <td>197.000000</td>\n",
       "      <td>195.000000</td>\n",
       "      <td>188.000000</td>\n",
       "      <td>0.000000</td>\n",
       "    </tr>\n",
       "    <tr>\n",
       "      <td>75%</td>\n",
       "      <td>131.000000</td>\n",
       "      <td>210.000000</td>\n",
       "      <td>232.000000</td>\n",
       "      <td>234.000000</td>\n",
       "      <td>232.000000</td>\n",
       "      <td>132.000000</td>\n",
       "      <td>211.000000</td>\n",
       "      <td>234.000000</td>\n",
       "      <td>233.000000</td>\n",
       "      <td>228.000000</td>\n",
       "      <td>...</td>\n",
       "      <td>210.000000</td>\n",
       "      <td>232.000000</td>\n",
       "      <td>234.000000</td>\n",
       "      <td>232.000000</td>\n",
       "      <td>132.000000</td>\n",
       "      <td>211.000000</td>\n",
       "      <td>234.000000</td>\n",
       "      <td>233.000000</td>\n",
       "      <td>228.000000</td>\n",
       "      <td>0.000000</td>\n",
       "    </tr>\n",
       "    <tr>\n",
       "      <td>max</td>\n",
       "      <td>647.000000</td>\n",
       "      <td>784.000000</td>\n",
       "      <td>666.000000</td>\n",
       "      <td>813.000000</td>\n",
       "      <td>738.000000</td>\n",
       "      <td>593.000000</td>\n",
       "      <td>657.000000</td>\n",
       "      <td>683.000000</td>\n",
       "      <td>687.000000</td>\n",
       "      <td>718.000000</td>\n",
       "      <td>...</td>\n",
       "      <td>784.000000</td>\n",
       "      <td>666.000000</td>\n",
       "      <td>813.000000</td>\n",
       "      <td>738.000000</td>\n",
       "      <td>593.000000</td>\n",
       "      <td>657.000000</td>\n",
       "      <td>683.000000</td>\n",
       "      <td>687.000000</td>\n",
       "      <td>718.000000</td>\n",
       "      <td>1.000000</td>\n",
       "    </tr>\n",
       "  </tbody>\n",
       "</table>\n",
       "<p>8 rows × 21 columns</p>\n",
       "</div>"
      ],
      "text/plain": [
       "               VASK0          VASK1          VASK2          VASK3  \\\n",
       "count  186590.000000  186590.000000  186590.000000  186590.000000   \n",
       "mean       92.788981     178.840495     204.462640     205.277978   \n",
       "std        66.491713      62.138222      62.969816      65.644839   \n",
       "min         1.000000       1.000000       5.000000       1.000000   \n",
       "25%        41.000000     138.000000     162.000000     161.000000   \n",
       "50%        83.000000     170.000000     196.000000     194.000000   \n",
       "75%       131.000000     210.000000     232.000000     234.000000   \n",
       "max       647.000000     784.000000     666.000000     813.000000   \n",
       "\n",
       "               VASK4          VBID0          VBID1          VBID2  \\\n",
       "count  186590.000000  186590.000000  186590.000000  186590.000000   \n",
       "mean      202.079436      92.270245     177.477716     203.058487   \n",
       "std        67.571850      65.281200      59.409587      58.546985   \n",
       "min         9.000000       1.000000       1.000000       1.000000   \n",
       "25%       156.000000      40.000000     137.000000     162.000000   \n",
       "50%       189.000000      83.000000     170.000000     197.000000   \n",
       "75%       232.000000     132.000000     211.000000     234.000000   \n",
       "max       738.000000     593.000000     657.000000     683.000000   \n",
       "\n",
       "               VBID3          VBID4  ...     VASK1_PREV     VASK2_PREV  \\\n",
       "count  186590.000000  186590.000000  ...  186590.000000  186590.000000   \n",
       "mean      202.174195     197.799646  ...     178.796431     204.430945   \n",
       "std        59.286325      61.265705  ...      62.173445      62.981647   \n",
       "min         4.000000       3.000000  ...       1.000000       5.000000   \n",
       "25%       161.000000     156.000000  ...     138.000000     162.000000   \n",
       "50%       195.000000     188.000000  ...     170.000000     196.000000   \n",
       "75%       233.000000     228.000000  ...     210.000000     232.000000   \n",
       "max       687.000000     718.000000  ...     784.000000     666.000000   \n",
       "\n",
       "          VASK3_PREV     VASK4_PREV     VBID0_PREV     VBID1_PREV  \\\n",
       "count  186590.000000  186590.000000  186590.000000  186590.000000   \n",
       "mean      205.273975     202.076333      92.318286     177.438491   \n",
       "std        65.646947      67.573708      65.376130      59.444964   \n",
       "min         1.000000       9.000000       1.000000       1.000000   \n",
       "25%       161.000000     156.000000      40.000000     136.000000   \n",
       "50%       194.000000     189.000000      83.000000     170.000000   \n",
       "75%       234.000000     232.000000     132.000000     211.000000   \n",
       "max       813.000000     738.000000     593.000000     657.000000   \n",
       "\n",
       "          VBID2_PREV     VBID3_PREV     VBID4_PREV              Y  \n",
       "count  186590.000000  186590.000000  186590.000000  186590.000000  \n",
       "mean      203.023479     202.169194     197.795123       0.010258  \n",
       "std        58.557993      59.289762      61.263966       0.100760  \n",
       "min         1.000000       4.000000       3.000000       0.000000  \n",
       "25%       162.000000     161.000000     156.000000       0.000000  \n",
       "50%       197.000000     195.000000     188.000000       0.000000  \n",
       "75%       234.000000     233.000000     228.000000       0.000000  \n",
       "max       683.000000     687.000000     718.000000       1.000000  \n",
       "\n",
       "[8 rows x 21 columns]"
      ]
     },
     "execution_count": 7,
     "metadata": {},
     "output_type": "execute_result"
    }
   ],
   "source": [
    "spred_train.describe()"
   ]
  },
  {
   "cell_type": "code",
   "execution_count": 8,
   "metadata": {
    "scrolled": true
   },
   "outputs": [
    {
     "data": {
      "text/html": [
       "<div>\n",
       "<style scoped>\n",
       "    .dataframe tbody tr th:only-of-type {\n",
       "        vertical-align: middle;\n",
       "    }\n",
       "\n",
       "    .dataframe tbody tr th {\n",
       "        vertical-align: top;\n",
       "    }\n",
       "\n",
       "    .dataframe thead th {\n",
       "        text-align: right;\n",
       "    }\n",
       "</style>\n",
       "<table border=\"1\" class=\"dataframe\">\n",
       "  <thead>\n",
       "    <tr style=\"text-align: right;\">\n",
       "      <th></th>\n",
       "      <th>VASK0</th>\n",
       "      <th>VASK1</th>\n",
       "      <th>VASK2</th>\n",
       "      <th>VASK3</th>\n",
       "      <th>VASK4</th>\n",
       "      <th>VBID0</th>\n",
       "      <th>VBID1</th>\n",
       "      <th>VBID2</th>\n",
       "      <th>VBID3</th>\n",
       "      <th>VBID4</th>\n",
       "      <th>VASK0_PREV</th>\n",
       "      <th>VASK1_PREV</th>\n",
       "      <th>VASK2_PREV</th>\n",
       "      <th>VASK3_PREV</th>\n",
       "      <th>VASK4_PREV</th>\n",
       "      <th>VBID0_PREV</th>\n",
       "      <th>VBID1_PREV</th>\n",
       "      <th>VBID2_PREV</th>\n",
       "      <th>VBID3_PREV</th>\n",
       "      <th>VBID4_PREV</th>\n",
       "    </tr>\n",
       "  </thead>\n",
       "  <tbody>\n",
       "    <tr>\n",
       "      <td>count</td>\n",
       "      <td>93296.000000</td>\n",
       "      <td>93296.000000</td>\n",
       "      <td>93296.000000</td>\n",
       "      <td>93296.000000</td>\n",
       "      <td>93296.000000</td>\n",
       "      <td>93296.000000</td>\n",
       "      <td>93296.000000</td>\n",
       "      <td>93296.000000</td>\n",
       "      <td>93296.000000</td>\n",
       "      <td>93296.000000</td>\n",
       "      <td>93296.000000</td>\n",
       "      <td>93296.000000</td>\n",
       "      <td>93296.000000</td>\n",
       "      <td>93296.000000</td>\n",
       "      <td>93296.000000</td>\n",
       "      <td>93296.000000</td>\n",
       "      <td>93296.000000</td>\n",
       "      <td>93296.000000</td>\n",
       "      <td>93296.000000</td>\n",
       "      <td>93296.000000</td>\n",
       "    </tr>\n",
       "    <tr>\n",
       "      <td>mean</td>\n",
       "      <td>92.476355</td>\n",
       "      <td>178.953406</td>\n",
       "      <td>204.454521</td>\n",
       "      <td>205.374732</td>\n",
       "      <td>202.095760</td>\n",
       "      <td>92.278383</td>\n",
       "      <td>177.645022</td>\n",
       "      <td>202.957972</td>\n",
       "      <td>202.195164</td>\n",
       "      <td>197.819671</td>\n",
       "      <td>92.510869</td>\n",
       "      <td>178.908367</td>\n",
       "      <td>204.424048</td>\n",
       "      <td>205.368312</td>\n",
       "      <td>202.092094</td>\n",
       "      <td>92.314922</td>\n",
       "      <td>177.603713</td>\n",
       "      <td>202.928475</td>\n",
       "      <td>202.187275</td>\n",
       "      <td>197.818384</td>\n",
       "    </tr>\n",
       "    <tr>\n",
       "      <td>std</td>\n",
       "      <td>66.175816</td>\n",
       "      <td>62.286293</td>\n",
       "      <td>63.634183</td>\n",
       "      <td>66.001228</td>\n",
       "      <td>68.062758</td>\n",
       "      <td>65.014341</td>\n",
       "      <td>59.348882</td>\n",
       "      <td>58.378365</td>\n",
       "      <td>59.317456</td>\n",
       "      <td>61.338375</td>\n",
       "      <td>66.271320</td>\n",
       "      <td>62.316085</td>\n",
       "      <td>63.646742</td>\n",
       "      <td>66.000324</td>\n",
       "      <td>68.056626</td>\n",
       "      <td>65.115635</td>\n",
       "      <td>59.387653</td>\n",
       "      <td>58.397220</td>\n",
       "      <td>59.318053</td>\n",
       "      <td>61.342721</td>\n",
       "    </tr>\n",
       "    <tr>\n",
       "      <td>min</td>\n",
       "      <td>1.000000</td>\n",
       "      <td>3.000000</td>\n",
       "      <td>6.000000</td>\n",
       "      <td>4.000000</td>\n",
       "      <td>16.000000</td>\n",
       "      <td>1.000000</td>\n",
       "      <td>1.000000</td>\n",
       "      <td>2.000000</td>\n",
       "      <td>7.000000</td>\n",
       "      <td>11.000000</td>\n",
       "      <td>1.000000</td>\n",
       "      <td>3.000000</td>\n",
       "      <td>6.000000</td>\n",
       "      <td>4.000000</td>\n",
       "      <td>16.000000</td>\n",
       "      <td>1.000000</td>\n",
       "      <td>1.000000</td>\n",
       "      <td>2.000000</td>\n",
       "      <td>7.000000</td>\n",
       "      <td>11.000000</td>\n",
       "    </tr>\n",
       "    <tr>\n",
       "      <td>25%</td>\n",
       "      <td>41.000000</td>\n",
       "      <td>138.000000</td>\n",
       "      <td>162.000000</td>\n",
       "      <td>161.000000</td>\n",
       "      <td>156.000000</td>\n",
       "      <td>40.000000</td>\n",
       "      <td>137.000000</td>\n",
       "      <td>162.000000</td>\n",
       "      <td>161.000000</td>\n",
       "      <td>156.000000</td>\n",
       "      <td>41.000000</td>\n",
       "      <td>138.000000</td>\n",
       "      <td>162.000000</td>\n",
       "      <td>161.000000</td>\n",
       "      <td>156.000000</td>\n",
       "      <td>40.000000</td>\n",
       "      <td>137.000000</td>\n",
       "      <td>162.000000</td>\n",
       "      <td>161.000000</td>\n",
       "      <td>156.000000</td>\n",
       "    </tr>\n",
       "    <tr>\n",
       "      <td>50%</td>\n",
       "      <td>83.000000</td>\n",
       "      <td>170.000000</td>\n",
       "      <td>195.000000</td>\n",
       "      <td>194.000000</td>\n",
       "      <td>188.000000</td>\n",
       "      <td>83.000000</td>\n",
       "      <td>170.000000</td>\n",
       "      <td>197.000000</td>\n",
       "      <td>195.000000</td>\n",
       "      <td>188.000000</td>\n",
       "      <td>83.000000</td>\n",
       "      <td>170.000000</td>\n",
       "      <td>195.000000</td>\n",
       "      <td>194.000000</td>\n",
       "      <td>188.000000</td>\n",
       "      <td>83.000000</td>\n",
       "      <td>170.000000</td>\n",
       "      <td>197.000000</td>\n",
       "      <td>195.000000</td>\n",
       "      <td>188.000000</td>\n",
       "    </tr>\n",
       "    <tr>\n",
       "      <td>75%</td>\n",
       "      <td>131.000000</td>\n",
       "      <td>209.000000</td>\n",
       "      <td>232.000000</td>\n",
       "      <td>234.000000</td>\n",
       "      <td>232.000000</td>\n",
       "      <td>132.000000</td>\n",
       "      <td>212.000000</td>\n",
       "      <td>234.000000</td>\n",
       "      <td>233.000000</td>\n",
       "      <td>228.000000</td>\n",
       "      <td>131.000000</td>\n",
       "      <td>209.000000</td>\n",
       "      <td>232.000000</td>\n",
       "      <td>234.000000</td>\n",
       "      <td>232.000000</td>\n",
       "      <td>132.000000</td>\n",
       "      <td>211.000000</td>\n",
       "      <td>234.000000</td>\n",
       "      <td>233.000000</td>\n",
       "      <td>228.000000</td>\n",
       "    </tr>\n",
       "    <tr>\n",
       "      <td>max</td>\n",
       "      <td>601.000000</td>\n",
       "      <td>642.000000</td>\n",
       "      <td>826.000000</td>\n",
       "      <td>673.000000</td>\n",
       "      <td>967.000000</td>\n",
       "      <td>558.000000</td>\n",
       "      <td>640.000000</td>\n",
       "      <td>686.000000</td>\n",
       "      <td>684.000000</td>\n",
       "      <td>641.000000</td>\n",
       "      <td>601.000000</td>\n",
       "      <td>642.000000</td>\n",
       "      <td>826.000000</td>\n",
       "      <td>673.000000</td>\n",
       "      <td>967.000000</td>\n",
       "      <td>558.000000</td>\n",
       "      <td>640.000000</td>\n",
       "      <td>686.000000</td>\n",
       "      <td>684.000000</td>\n",
       "      <td>641.000000</td>\n",
       "    </tr>\n",
       "  </tbody>\n",
       "</table>\n",
       "</div>"
      ],
      "text/plain": [
       "              VASK0         VASK1         VASK2         VASK3         VASK4  \\\n",
       "count  93296.000000  93296.000000  93296.000000  93296.000000  93296.000000   \n",
       "mean      92.476355    178.953406    204.454521    205.374732    202.095760   \n",
       "std       66.175816     62.286293     63.634183     66.001228     68.062758   \n",
       "min        1.000000      3.000000      6.000000      4.000000     16.000000   \n",
       "25%       41.000000    138.000000    162.000000    161.000000    156.000000   \n",
       "50%       83.000000    170.000000    195.000000    194.000000    188.000000   \n",
       "75%      131.000000    209.000000    232.000000    234.000000    232.000000   \n",
       "max      601.000000    642.000000    826.000000    673.000000    967.000000   \n",
       "\n",
       "              VBID0         VBID1         VBID2         VBID3         VBID4  \\\n",
       "count  93296.000000  93296.000000  93296.000000  93296.000000  93296.000000   \n",
       "mean      92.278383    177.645022    202.957972    202.195164    197.819671   \n",
       "std       65.014341     59.348882     58.378365     59.317456     61.338375   \n",
       "min        1.000000      1.000000      2.000000      7.000000     11.000000   \n",
       "25%       40.000000    137.000000    162.000000    161.000000    156.000000   \n",
       "50%       83.000000    170.000000    197.000000    195.000000    188.000000   \n",
       "75%      132.000000    212.000000    234.000000    233.000000    228.000000   \n",
       "max      558.000000    640.000000    686.000000    684.000000    641.000000   \n",
       "\n",
       "         VASK0_PREV    VASK1_PREV    VASK2_PREV    VASK3_PREV    VASK4_PREV  \\\n",
       "count  93296.000000  93296.000000  93296.000000  93296.000000  93296.000000   \n",
       "mean      92.510869    178.908367    204.424048    205.368312    202.092094   \n",
       "std       66.271320     62.316085     63.646742     66.000324     68.056626   \n",
       "min        1.000000      3.000000      6.000000      4.000000     16.000000   \n",
       "25%       41.000000    138.000000    162.000000    161.000000    156.000000   \n",
       "50%       83.000000    170.000000    195.000000    194.000000    188.000000   \n",
       "75%      131.000000    209.000000    232.000000    234.000000    232.000000   \n",
       "max      601.000000    642.000000    826.000000    673.000000    967.000000   \n",
       "\n",
       "         VBID0_PREV    VBID1_PREV    VBID2_PREV    VBID3_PREV    VBID4_PREV  \n",
       "count  93296.000000  93296.000000  93296.000000  93296.000000  93296.000000  \n",
       "mean      92.314922    177.603713    202.928475    202.187275    197.818384  \n",
       "std       65.115635     59.387653     58.397220     59.318053     61.342721  \n",
       "min        1.000000      1.000000      2.000000      7.000000     11.000000  \n",
       "25%       40.000000    137.000000    162.000000    161.000000    156.000000  \n",
       "50%       83.000000    170.000000    197.000000    195.000000    188.000000  \n",
       "75%      132.000000    211.000000    234.000000    233.000000    228.000000  \n",
       "max      558.000000    640.000000    686.000000    684.000000    641.000000  "
      ]
     },
     "execution_count": 8,
     "metadata": {},
     "output_type": "execute_result"
    }
   ],
   "source": [
    "spred_test.describe()"
   ]
  },
  {
   "cell_type": "markdown",
   "metadata": {},
   "source": [
    "Данные распределены нормально, особых выбросов или аномальных значений не наблюдается."
   ]
  },
  {
   "cell_type": "code",
   "execution_count": 9,
   "metadata": {},
   "outputs": [],
   "source": [
    "#Для дальнейшего анализа переименуем столбцы в привычный вид:\n",
    "spred_train.columns = spred_train.columns.str.lower()\n",
    "spred_test.columns = spred_test.columns.str.lower()"
   ]
  },
  {
   "cell_type": "code",
   "execution_count": 10,
   "metadata": {},
   "outputs": [
    {
     "data": {
      "text/plain": [
       "186590"
      ]
     },
     "execution_count": 10,
     "metadata": {},
     "output_type": "execute_result"
    }
   ],
   "source": [
    "#Проверим баланс классов\n",
    "#Всего измерений\n",
    "spred_train['y'].count()"
   ]
  },
  {
   "cell_type": "code",
   "execution_count": 11,
   "metadata": {},
   "outputs": [
    {
     "data": {
      "text/plain": [
       "1914"
      ]
     },
     "execution_count": 11,
     "metadata": {},
     "output_type": "execute_result"
    }
   ],
   "source": [
    "#Спред расширился (кол-во раз)\n",
    "spred_train[spred_train['y']==1]['y'].count()"
   ]
  },
  {
   "cell_type": "code",
   "execution_count": 12,
   "metadata": {
    "scrolled": true
   },
   "outputs": [
    {
     "data": {
      "text/plain": [
       "184676"
      ]
     },
     "execution_count": 12,
     "metadata": {},
     "output_type": "execute_result"
    }
   ],
   "source": [
    "#Спред уменьшился (кол-во раз)\n",
    "spred_train[spred_train['y']==0]['y'].count()"
   ]
  },
  {
   "cell_type": "markdown",
   "metadata": {},
   "source": [
    "Наблюдаеся сильный дисбаланс классов: спред расширяется заметно реже, нежели тех случаев, когда он остается минимальным.<br>\n",
    "Уделим случаям расширения больше внимания, поскольку их \"вес\" больше."
   ]
  },
  {
   "cell_type": "code",
   "execution_count": 13,
   "metadata": {},
   "outputs": [
    {
     "data": {
      "text/plain": [
       "<matplotlib.axes._subplots.AxesSubplot at 0x7f1bfcaac050>"
      ]
     },
     "execution_count": 13,
     "metadata": {},
     "output_type": "execute_result"
    },
    {
     "data": {
      "image/png": "[encoded data removed]",
      "text/plain": [
       "<Figure size 720x720 with 1 Axes>"
      ]
     },
     "metadata": {
      "needs_background": "light"
     },
     "output_type": "display_data"
    }
   ],
   "source": [
    "spred_train.boxplot(figsize=(10,10))"
   ]
  },
  {
   "cell_type": "code",
   "execution_count": 14,
   "metadata": {
    "scrolled": true
   },
   "outputs": [
    {
     "data": {
      "text/plain": [
       "<matplotlib.axes._subplots.AxesSubplot at 0x7f1bdd5fb390>"
      ]
     },
     "execution_count": 14,
     "metadata": {},
     "output_type": "execute_result"
    },
    {
     "data": {
      "image/png": "[encoded data removed]",
      "text/plain": [
       "<Figure size 720x720 with 1 Axes>"
      ]
     },
     "metadata": {
      "needs_background": "light"
     },
     "output_type": "display_data"
    }
   ],
   "source": [
    "spred_train[spred_train['y']==1].boxplot(figsize=(10,10))"
   ]
  },
  {
   "cell_type": "code",
   "execution_count": 15,
   "metadata": {
    "scrolled": false
   },
   "outputs": [
    {
     "data": {
      "text/plain": [
       "<matplotlib.axes._subplots.AxesSubplot at 0x7f1bdd365b90>"
      ]
     },
     "execution_count": 15,
     "metadata": {},
     "output_type": "execute_result"
    },
    {
     "data": {
      "image/png": "[encoded data removed]",
      "text/plain": [
       "<Figure size 720x720 with 1 Axes>"
      ]
     },
     "metadata": {
      "needs_background": "light"
     },
     "output_type": "display_data"
    }
   ],
   "source": [
    "spred_test.boxplot(figsize=(10,10))"
   ]
  },
  {
   "cell_type": "markdown",
   "metadata": {},
   "source": [
    "Распределение данных с расширяющимся спредом аналогична всему датафрейму, явных отличий не видно. Распределение тестовой и тренировочной выборок также совпадают."
   ]
  },
  {
   "cell_type": "markdown",
   "metadata": {},
   "source": [
    "### Добавление признаков"
   ]
  },
  {
   "cell_type": "code",
   "execution_count": 16,
   "metadata": {},
   "outputs": [],
   "source": [
    "#разность между объемами лучших асков\\бидов текущего дня\n",
    "spred_train['diff0'] = spred_train['vbid0'] - spred_train['vask0']\n",
    "#разность между объемами асков\\бидов вчерашнего дня\n",
    "spred_train['diff1'] = spred_train['vbid0_prev'] - spred_train['vask0_prev']\n",
    "#если разность имеет тенденцию на увеличиние, то признак = 1, если наоборот то 0\n",
    "for i in range(0, len(spred_train)):\n",
    "    if spred_train.loc[i,'diff0'] > spred_train.loc[i,'diff1']:\n",
    "        spred_train.loc[i,'upper'] = 1\n",
    "    else:\n",
    "        spred_train.loc[i,'upper'] = 0"
   ]
  },
  {
   "cell_type": "markdown",
   "metadata": {},
   "source": [
    "В реальности можно было попытаться найти данные и за позавчерашний день, чтобы динамика изменения трендов была более отчетливой."
   ]
  },
  {
   "cell_type": "markdown",
   "metadata": {},
   "source": [
    "## Выбор модели"
   ]
  },
  {
   "cell_type": "markdown",
   "metadata": {},
   "source": [
    "Обучим несколько моделей на разных алгоритмах, подберем лучшие параметры и выберем лучшую из всех для дальнейшего применения."
   ]
  },
  {
   "cell_type": "code",
   "execution_count": 17,
   "metadata": {},
   "outputs": [],
   "source": [
    "features = spred_train.drop(['y'], axis=1)\n",
    "target = spred_train['y']"
   ]
  },
  {
   "cell_type": "code",
   "execution_count": 18,
   "metadata": {},
   "outputs": [],
   "source": [
    "features_train, features_valid, target_train, target_valid = train_test_split(\n",
    "    features, target, test_size=0.2, random_state=12345)"
   ]
  },
  {
   "cell_type": "code",
   "execution_count": 19,
   "metadata": {},
   "outputs": [],
   "source": [
    "# поиск лучших параметров\n",
    "# for i in range (1, 100, 5):\n",
    "#     print(\"max_depth:\", i)\n",
    "#     for l in range (1, 32, 3):\n",
    "#         print(\"estim_count:\", l)\n",
    "#         mod = DecisionTreeClassifier(max_depth=i, criterion='gini', random_state=12345)\n",
    "#         mod.fit(features_train, target_train)\n",
    "#         #predicted_valid = mod.predict(features_valid)\n",
    "#         print(\"Модель:\", mod)\n",
    "#         preds_proba = mod.predict_proba(features_valid)\n",
    "#         ras = roc_auc_score(target_valid, preds_proba[:,1])\n",
    "#         print(\"RAC:\", ras, \"\\n\")\n"
   ]
  },
  {
   "cell_type": "markdown",
   "metadata": {},
   "source": [
    "Определим несколько моделей с параметрами, подобранными ранее"
   ]
  },
  {
   "cell_type": "code",
   "execution_count": 20,
   "metadata": {},
   "outputs": [],
   "source": [
    "dtc = DecisionTreeClassifier(max_depth=6, criterion='gini', random_state=12345)\n",
    "lr = LogisticRegression(solver='liblinear')\n",
    "cbc = CatBoostClassifier(iterations=431, learning_rate =0.094, eval_metric='AUC',\n",
    "                         random_seed=0, logging_level='Silent')\n",
    "xgbc = xgb.XGBClassifier(booster='gbtree', colsample_bylevel=1, learning_rate=0.11,\n",
    "                            max_depth=5, n_estimators=120, verbosity=0) "
   ]
  },
  {
   "cell_type": "code",
   "execution_count": 21,
   "metadata": {},
   "outputs": [],
   "source": [
    "models = (dtc, lr, cbc, xgbc)"
   ]
  },
  {
   "cell_type": "code",
   "execution_count": 22,
   "metadata": {},
   "outputs": [],
   "source": [
    "roc_auc_total = []"
   ]
  },
  {
   "cell_type": "code",
   "execution_count": 23,
   "metadata": {},
   "outputs": [
    {
     "name": "stdout",
     "output_type": "stream",
     "text": [
      "Модель: DecisionTreeClassifier(class_weight=None, criterion='gini', max_depth=6,\n",
      "                       max_features=None, max_leaf_nodes=None,\n",
      "                       min_impurity_decrease=0.0, min_impurity_split=None,\n",
      "                       min_samples_leaf=1, min_samples_split=2,\n",
      "                       min_weight_fraction_leaf=0.0, presort=False,\n",
      "                       random_state=12345, splitter='best')\n",
      "ROC AUC: 0.8801653185878713 \n",
      "\n",
      "Модель: LogisticRegression(C=1.0, class_weight=None, dual=False, fit_intercept=True,\n",
      "                   intercept_scaling=1, l1_ratio=None, max_iter=100,\n",
      "                   multi_class='warn', n_jobs=None, penalty='l2',\n",
      "                   random_state=None, solver='liblinear', tol=0.0001, verbose=0,\n",
      "                   warm_start=False)\n",
      "ROC AUC: 0.7269733767747141 \n",
      "\n",
      "Модель: <catboost.core.CatBoostClassifier object at 0x7f1bdd104190>\n",
      "ROC AUC: 0.9037649788175947 \n",
      "\n",
      "Модель: XGBClassifier(base_score=0.5, booster='gbtree', colsample_bylevel=1,\n",
      "              colsample_bynode=1, colsample_bytree=1, gamma=0,\n",
      "              learning_rate=0.11, max_delta_step=0, max_depth=5,\n",
      "              min_child_weight=1, missing=None, n_estimators=120, n_jobs=1,\n",
      "              nthread=None, objective='binary:logistic', random_state=0,\n",
      "              reg_alpha=0, reg_lambda=1, scale_pos_weight=1, seed=None,\n",
      "              silent=None, subsample=1, verbosity=0)\n",
      "ROC AUC: 0.9100719719689521 \n",
      "\n"
     ]
    }
   ],
   "source": [
    "for mod in models:\n",
    "    mod.fit(features_train, target_train)\n",
    "    #predicted_valid = mod.predict(features_valid)\n",
    "    print(\"Модель:\", mod)\n",
    "    preds_proba = mod.predict_proba(features_valid)\n",
    "    ras = roc_auc_score(target_valid, preds_proba[:,1])\n",
    "    print(\"ROC AUC:\", ras, \"\\n\")\n",
    "    roc_auc_total.append(ras)"
   ]
  },
  {
   "cell_type": "code",
   "execution_count": 24,
   "metadata": {},
   "outputs": [],
   "source": [
    "names = ['Случайный лес', 'Логистическая регрессия', 'CatBoost', \"XGBoost\"]"
   ]
  },
  {
   "cell_type": "code",
   "execution_count": 25,
   "metadata": {},
   "outputs": [
    {
     "data": {
      "image/png": "[encoded data removed]",
      "text/plain": [
       "<Figure size 432x288 with 1 Axes>"
      ]
     },
     "metadata": {
      "needs_background": "light"
     },
     "output_type": "display_data"
    }
   ],
   "source": [
    "plt.bar(names, roc_auc_total, color='gbrk')\n",
    "plt.title('ROC AUC моделей', fontsize=16)\n",
    "plt.xlabel(\"модель\", fontsize=14)\n",
    "plt.ylabel(\"ROC AUC\", fontsize=14)\n",
    "plt.ylim(.6)\n",
    "plt.grid(linestyle='--', alpha=0.6)\n",
    "ra_total_round = [round(i,3) for i in roc_auc_total]\n",
    "for i, val in enumerate(ra_total_round):\n",
    "    plt.text(i, val, float(val), horizontalalignment='center', verticalalignment='bottom', fontdict={'fontweight':100, 'size':12})\n",
    "plt.xticks(rotation=20)\n",
    "plt.show()"
   ]
  },
  {
   "cell_type": "markdown",
   "metadata": {},
   "source": [
    "Из полученных моделей лучше остальных себя зарекомендовал XGBoost с roc_auc_score = 0.91. С данной моделью и будем работать далее."
   ]
  },
  {
   "cell_type": "markdown",
   "metadata": {},
   "source": [
    "### Анализ полученной модели"
   ]
  },
  {
   "cell_type": "code",
   "execution_count": 26,
   "metadata": {},
   "outputs": [],
   "source": [
    "xgbc.fit(features_train, target_train)\n",
    "predicted_valid = xgbc.predict(features_valid)"
   ]
  },
  {
   "cell_type": "code",
   "execution_count": 27,
   "metadata": {},
   "outputs": [],
   "source": [
    "#доля правильных ответов, если заменить все значения нулями:\n",
    "ifnull = spred_train[spred_train['y']==0]['y'].count() / spred_train['y'].count()\n",
    "#Поскольку имеем дело с временными рядами,\n",
    "#то стоит проверить замену таргета предыдущим значением\n",
    "orders = spred_train['y']\n",
    "train_orders, test_orders = train_test_split(orders, shuffle=False, test_size=0.1)\n",
    "pred_previous = test_orders.shift()\n",
    "pred_previous.iloc[0] = train_orders.iloc[-1]"
   ]
  },
  {
   "cell_type": "code",
   "execution_count": 28,
   "metadata": {
    "scrolled": true
   },
   "outputs": [
    {
     "name": "stdout",
     "output_type": "stream",
     "text": [
      "Предсказано расширений: 10 \n",
      "Доля правильных предсказаний расширений: 0.0273224043715847\n",
      "\n",
      "Доля правильных ответов \n",
      "заполнения нулями: 0.9897422155528164 \n",
      "заполнения предыдущим значением: 0.9765260732086393 \n",
      "полученной модели: 0.9901924004501849 \n",
      "\n",
      "Точность: 0.5 \n",
      "Полнота: 0.01366120218579235 \n",
      "f1-метрика: 0.02659574468085106\n"
     ]
    }
   ],
   "source": [
    "print(\"Предсказано расширений:\",sum(predicted_valid==1),\n",
    "     \"\\nДоля правильных предсказаний расширений:\", sum(predicted_valid==1) / sum(target_valid==1))\n",
    "print(\"\\nДоля правильных ответов\",\n",
    "     \"\\nзаполнения нулями:\", ifnull,\n",
    "     \"\\nзаполнения предыдущим значением:\", accuracy_score(test_orders, pred_previous),\n",
    "     \"\\nполученной модели:\", accuracy_score(target_valid, predicted_valid),\n",
    "     \"\\n\\nТочность:\",precision_score(target_valid, predicted_valid),\n",
    "     \"\\nПолнота:\", recall_score(target_valid, predicted_valid),\n",
    "     \"\\nf1-метрика:\",f1_score(target_valid, predicted_valid)\n",
    "     )"
   ]
  },
  {
   "cell_type": "markdown",
   "metadata": {},
   "source": [
    "Кроме метрики ROC-AUC остальные метрики крайненизкие, за счет доли предсказанных решений. Сделаем Upsampling и обучим модель заново."
   ]
  },
  {
   "cell_type": "code",
   "execution_count": 29,
   "metadata": {},
   "outputs": [],
   "source": [
    "def upsample(features, target, repeat):\n",
    "    features_zeros = features[target == 0]\n",
    "    features_ones = features[target == 1]\n",
    "    target_zeros = target[target == 0]\n",
    "    target_ones = target[target == 1]\n",
    "\n",
    "    features_upsampled = pd.concat([features_zeros] + [features_ones] * repeat)\n",
    "    target_upsampled = pd.concat([target_zeros] + [target_ones] * repeat)\n",
    "    \n",
    "    features_upsampled, target_upsampled = shuffle(\n",
    "        features_upsampled, target_upsampled, random_state=12345)\n",
    "    \n",
    "    return features_upsampled, target_upsampled\n",
    "\n",
    "features_upsampled, target_upsampled = upsample(features_train, target_train, 7)"
   ]
  },
  {
   "cell_type": "code",
   "execution_count": 30,
   "metadata": {},
   "outputs": [],
   "source": [
    "xgbc.fit(features_upsampled, target_upsampled)\n",
    "predicted_valid = xgbc.predict(features_valid)\n",
    "preds_proba = xgbc.predict_proba(features_valid)\n",
    "ras_fin = roc_auc_score(target_valid, preds_proba[:,1])"
   ]
  },
  {
   "cell_type": "code",
   "execution_count": 31,
   "metadata": {
    "scrolled": true
   },
   "outputs": [
    {
     "name": "stdout",
     "output_type": "stream",
     "text": [
      "Предсказано расширений: 346 \n",
      "Доля предсказаний расширений: 0.9453551912568307\n",
      "\n",
      "Доля правильных ответов \n",
      "заполнения нулями: 0.9897422155528164 \n",
      "заполнения предыдущим значением: 0.9765260732086393 \n",
      "полученной модели: 0.9852618039551959 \n",
      "\n",
      "Точность: 0.23410404624277456 \n",
      "Полнота: 0.22131147540983606 \n",
      "f1-метрика: 0.22752808988764045 \n",
      "ROC AUC score: 0.9076751984852304\n"
     ]
    }
   ],
   "source": [
    "#доля правильных ответов, если заменить все значения нулями:\n",
    "ifnull = spred_train[spred_train['y']==0]['y'].count() / spred_train['y'].count()\n",
    "#Поскольку имеем дело с временными рядами,\n",
    "#то стоит проверить замену таргета предыдущим значением\n",
    "orders = spred_train['y']\n",
    "train_orders, test_orders = train_test_split(orders, shuffle=False, test_size=0.1)\n",
    "pred_previous = test_orders.shift()\n",
    "pred_previous.iloc[0] = train_orders.iloc[-1]\n",
    "print(\"Предсказано расширений:\",sum(predicted_valid==1),\n",
    "     \"\\nДоля предсказаний расширений:\", sum(predicted_valid==1) / sum(target_valid==1))\n",
    "print(\"\\nДоля правильных ответов\",\n",
    "     \"\\nзаполнения нулями:\", ifnull,\n",
    "     \"\\nзаполнения предыдущим значением:\", accuracy_score(test_orders, pred_previous),\n",
    "     \"\\nполученной модели:\", accuracy_score(target_valid, predicted_valid),\n",
    "     \"\\n\\nТочность:\",precision_score(target_valid, predicted_valid),\n",
    "     \"\\nПолнота:\", recall_score(target_valid, predicted_valid),\n",
    "     \"\\nf1-метрика:\",f1_score(target_valid, predicted_valid),\n",
    "     \"\\nROC AUC score:\", ras_fin\n",
    "     )"
   ]
  },
  {
   "cell_type": "markdown",
   "metadata": {},
   "source": [
    "Доля правильных ответов при таком дисбалансе не играет важную роль, а прочие метрики увеличелись."
   ]
  },
  {
   "cell_type": "markdown",
   "metadata": {},
   "source": [
    "Проверим модель с помощью кросс-валидации"
   ]
  },
  {
   "cell_type": "code",
   "execution_count": 32,
   "metadata": {},
   "outputs": [
    {
     "data": {
      "text/plain": [
       "{'fit_time': array([31.72756529, 30.10993648, 32.53588414, 30.91466832, 30.93908668]),\n",
       " 'score_time': array([0.21733546, 0.23271632, 0.22006631, 0.22948289, 0.22615743]),\n",
       " 'test_score': array([0.90227646, 0.90757101, 0.88077422, 0.89107286, 0.89065741])}"
      ]
     },
     "execution_count": 32,
     "metadata": {},
     "output_type": "execute_result"
    }
   ],
   "source": [
    "scores = cross_validate(xgbc, features_train, target_train, cv=5, scoring='roc_auc')\n",
    "scores"
   ]
  },
  {
   "cell_type": "code",
   "execution_count": 33,
   "metadata": {},
   "outputs": [
    {
     "name": "stdout",
     "output_type": "stream",
     "text": [
      "mean scores: 0.8944703909049447\n"
     ]
    }
   ],
   "source": [
    "print(\"mean scores:\", scores['test_score'].mean())"
   ]
  },
  {
   "cell_type": "markdown",
   "metadata": {},
   "source": [
    "Наблюдается переобучение, но не большое."
   ]
  },
  {
   "cell_type": "markdown",
   "metadata": {},
   "source": [
    "Посмотрим какие признаки вносят наибольшее влияние:"
   ]
  },
  {
   "cell_type": "code",
   "execution_count": 34,
   "metadata": {},
   "outputs": [],
   "source": [
    "fi_new = pd.Series(xgbc.feature_importances_, index=features.columns)\n",
    "fi_new = fi_new / fi_new.sum()"
   ]
  },
  {
   "cell_type": "code",
   "execution_count": 35,
   "metadata": {},
   "outputs": [
    {
     "data": {
      "text/plain": [
       "Text(0, 0.5, 'корреляция')"
      ]
     },
     "execution_count": 35,
     "metadata": {},
     "output_type": "execute_result"
    },
    {
     "data": {
      "image/png": "[encoded data removed]",
      "text/plain": [
       "<Figure size 720x576 with 1 Axes>"
      ]
     },
     "metadata": {
      "needs_background": "light"
     },
     "output_type": "display_data"
    }
   ],
   "source": [
    "plt.figure(figsize=(10,8))\n",
    "fi_new.plot(kind='bar', grid=True, color=['r','k'])\n",
    "plt.grid(linestyle='--', alpha=0.6)\n",
    "plt.xticks(rotation=90, fontsize = 12)\n",
    "plt.title(\"Влияние признаков на изменение динамики спреда\")\n",
    "plt.ylabel(\"корреляция\")"
   ]
  },
  {
   "cell_type": "markdown",
   "metadata": {},
   "source": [
    "как и ожидалось - лучшие объемы асков и бидов вносят максимальное значение для нахождения таргета."
   ]
  },
  {
   "cell_type": "code",
   "execution_count": null,
   "metadata": {},
   "outputs": [],
   "source": []
  },
  {
   "cell_type": "code",
   "execution_count": 36,
   "metadata": {},
   "outputs": [
    {
     "data": {
      "image/png": "[encoded data removed]",
      "text/plain": [
       "<Figure size 648x504 with 1 Axes>"
      ]
     },
     "metadata": {},
     "output_type": "display_data"
    }
   ],
   "source": [
    "sns.set(font_scale=1.5)\n",
    "sns.set_color_codes(\"muted\")\n",
    "\n",
    "plt.figure(figsize=(9, 7))\n",
    "fpr, tpr, thresholds = roc_curve(target_valid, preds_proba[:,1], pos_label=1)\n",
    "plt.plot(fpr, tpr, lw=2)\n",
    "plt.plot([0, 1], [0, 1])\n",
    "plt.xlim([0.0, 1.0])\n",
    "plt.ylim([0.0, 1.05])\n",
    "plt.xlabel('False Positive Rate')\n",
    "plt.ylabel('True Positive Rate')\n",
    "plt.title('Итоговая кривая ROC-AUC')\n",
    "plt.show()"
   ]
  },
  {
   "cell_type": "markdown",
   "metadata": {},
   "source": [
    "Итоговая модель имеет ROC AUC Score = 0.91, кривая ROC AUC представлена выше."
   ]
  },
  {
   "cell_type": "markdown",
   "metadata": {},
   "source": [
    "### Применение модели"
   ]
  },
  {
   "cell_type": "markdown",
   "metadata": {},
   "source": [
    "Используем нашу полученную модель на тестовом датасете для получения итоговых вероятностей."
   ]
  },
  {
   "cell_type": "code",
   "execution_count": 37,
   "metadata": {},
   "outputs": [
    {
     "data": {
      "text/html": [
       "<div>\n",
       "<style scoped>\n",
       "    .dataframe tbody tr th:only-of-type {\n",
       "        vertical-align: middle;\n",
       "    }\n",
       "\n",
       "    .dataframe tbody tr th {\n",
       "        vertical-align: top;\n",
       "    }\n",
       "\n",
       "    .dataframe thead th {\n",
       "        text-align: right;\n",
       "    }\n",
       "</style>\n",
       "<table border=\"1\" class=\"dataframe\">\n",
       "  <thead>\n",
       "    <tr style=\"text-align: right;\">\n",
       "      <th></th>\n",
       "      <th>vask0</th>\n",
       "      <th>vask1</th>\n",
       "      <th>vask2</th>\n",
       "      <th>vask3</th>\n",
       "      <th>vask4</th>\n",
       "      <th>vbid0</th>\n",
       "      <th>vbid1</th>\n",
       "      <th>vbid2</th>\n",
       "      <th>vbid3</th>\n",
       "      <th>vbid4</th>\n",
       "      <th>vask0_prev</th>\n",
       "      <th>vask1_prev</th>\n",
       "      <th>vask2_prev</th>\n",
       "      <th>vask3_prev</th>\n",
       "      <th>vask4_prev</th>\n",
       "      <th>vbid0_prev</th>\n",
       "      <th>vbid1_prev</th>\n",
       "      <th>vbid2_prev</th>\n",
       "      <th>vbid3_prev</th>\n",
       "      <th>vbid4_prev</th>\n",
       "    </tr>\n",
       "  </thead>\n",
       "  <tbody>\n",
       "    <tr>\n",
       "      <td>0</td>\n",
       "      <td>187</td>\n",
       "      <td>341</td>\n",
       "      <td>385</td>\n",
       "      <td>375</td>\n",
       "      <td>323</td>\n",
       "      <td>134</td>\n",
       "      <td>158</td>\n",
       "      <td>213</td>\n",
       "      <td>222</td>\n",
       "      <td>180</td>\n",
       "      <td>187</td>\n",
       "      <td>341</td>\n",
       "      <td>385</td>\n",
       "      <td>375</td>\n",
       "      <td>323</td>\n",
       "      <td>134</td>\n",
       "      <td>158</td>\n",
       "      <td>212</td>\n",
       "      <td>222</td>\n",
       "      <td>180</td>\n",
       "    </tr>\n",
       "  </tbody>\n",
       "</table>\n",
       "</div>"
      ],
      "text/plain": [
       "   vask0  vask1  vask2  vask3  vask4  vbid0  vbid1  vbid2  vbid3  vbid4  \\\n",
       "0    187    341    385    375    323    134    158    213    222    180   \n",
       "\n",
       "   vask0_prev  vask1_prev  vask2_prev  vask3_prev  vask4_prev  vbid0_prev  \\\n",
       "0         187         341         385         375         323         134   \n",
       "\n",
       "   vbid1_prev  vbid2_prev  vbid3_prev  vbid4_prev  \n",
       "0         158         212         222         180  "
      ]
     },
     "execution_count": 37,
     "metadata": {},
     "output_type": "execute_result"
    }
   ],
   "source": [
    "spred_test.head(1)"
   ]
  },
  {
   "cell_type": "code",
   "execution_count": 38,
   "metadata": {},
   "outputs": [],
   "source": [
    "#разность между объемами лучших асков\\бидов текущего дня\n",
    "spred_test['diff0'] = spred_test['vbid0'] - spred_test['vask0']\n",
    "#разность между объемами асков\\бидов вчерашнего дня\n",
    "spred_test['diff1'] = spred_test['vbid0_prev'] - spred_test['vask0_prev']\n",
    "#если разность имеет тенденцию на увеличиние, то признак = 1, если наоборот то 0\n",
    "for i in range(0, len(spred_test)):\n",
    "    if spred_test.loc[i,'diff0'] > spred_test.loc[i,'diff1']:\n",
    "        spred_test.loc[i,'upper'] = 1\n",
    "    else:\n",
    "        spred_test.loc[i,'upper'] = 0"
   ]
  },
  {
   "cell_type": "code",
   "execution_count": 39,
   "metadata": {},
   "outputs": [],
   "source": [
    "final_preds = xgbc.predict_proba(spred_test)"
   ]
  },
  {
   "cell_type": "code",
   "execution_count": 40,
   "metadata": {
    "scrolled": true
   },
   "outputs": [],
   "source": [
    "out = pd.DataFrame(final_preds[:,1], columns=['Y_PRED'])"
   ]
  },
  {
   "cell_type": "code",
   "execution_count": 41,
   "metadata": {},
   "outputs": [],
   "source": [
    "out.to_csv(\"tz/out_pred.csv\", index=False)"
   ]
  },
  {
   "cell_type": "code",
   "execution_count": null,
   "metadata": {},
   "outputs": [],
   "source": []
  }
 ],
 "metadata": {
  "kernelspec": {
   "display_name": "Python 3",
   "language": "python",
   "name": "python3"
  },
  "language_info": {
   "codemirror_mode": {
    "name": "ipython",
    "version": 3
   },
   "file_extension": ".py",
   "mimetype": "text/x-python",
   "name": "python",
   "nbconvert_exporter": "python",
   "pygments_lexer": "ipython3",
   "version": "3.7.6"
  }
 },
 "nbformat": 4,
 "nbformat_minor": 2
}
